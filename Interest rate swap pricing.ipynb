{
 "cells": [
  {
   "cell_type": "code",
   "execution_count": 2,
   "metadata": {},
   "outputs": [],
   "source": [
    "import numpy as np"
   ]
  },
  {
   "cell_type": "markdown",
   "metadata": {},
   "source": [
    "### Pricing a 1-year quarterly-pay plain vanilla swap \n",
    "Day count convention is 30/360.\n",
    "The quaterly floating interest rate is 2.5%, 3%, 3.5%, 4%."
   ]
  },
  {
   "cell_type": "code",
   "execution_count": 20,
   "metadata": {},
   "outputs": [
    {
     "name": "stdout",
     "output_type": "stream",
     "text": [
      "[0.025 0.03  0.035 0.04 ]\n",
      "[ 90 180 270 360]\n",
      "[0.99378882 0.98522167 0.97442144 0.96153846]\n",
      "The discount factor for 1st quater is 0.9938.\n",
      "The discount factor for 2nd quater is 0.9852.\n",
      "The discount factor for 3th quater is 0.9744.\n",
      "The discount factor for 4th quater is 0.9615.\n"
     ]
    }
   ],
   "source": [
    "#Example 1\n",
    "#pricing a 1-year quarterly-pay plain vanilla swap using 30/360\n",
    "rates=np.arange(.025,.045,.005)\n",
    "print(rates)\n",
    "times=np.arange(90,450,90)\n",
    "print(times)\n",
    "def discfactor(rates,times):\n",
    "    return 1/(1+rates*times/360)\n",
    "print(discfactor(rates, times))\n",
    "\n",
    "discount_factor1=discfactor(.025,90)\n",
    "discount_factor2=discfactor(.03,180)\n",
    "discount_factor3=discfactor(.035,270)\n",
    "discount_factor4=discfactor(.04,360)\n",
    "print(\"The discount factor for 1st quater is {0:.4f}.\".format(discount_factor1))\n",
    "print(\"The discount factor for 2nd quater is {0:.4f}.\".format(discount_factor2))\n",
    "print(\"The discount factor for 3th quater is {0:.4f}.\".format(discount_factor3))\n",
    "print(\"The discount factor for 4th quater is {0:.4f}.\".format(discount_factor4))\n"
   ]
  },
  {
   "cell_type": "code",
   "execution_count": 21,
   "metadata": {},
   "outputs": [
    {
     "name": "stdout",
     "output_type": "stream",
     "text": [
      "The coupon rate is 0.98%\n",
      "The swap rate is 3.93%\n"
     ]
    }
   ],
   "source": [
    "def coupon_rate(discount_factor1,discount_factor2,discount_factor3,discount_factor4):\n",
    "    sum=discount_factor1+discount_factor2+discount_factor3+discount_factor4\n",
    "    return(1-discount_factor4)/sum\n",
    "coupon_rate=coupon_rate(discount_factor1,discount_factor2,discount_factor3,discount_factor4)\n",
    "print(\"The coupon rate is {0:.2f}%\".format(coupon_rate*100))\n",
    "swap_rate=coupon_rate*4\n",
    "print(\"The swap rate is {0:.2f}%\".format(swap_rate*100))"
   ]
  },
  {
   "cell_type": "markdown",
   "metadata": {},
   "source": [
    "### Valation of a pay-fixed interest rate swap\n",
    "The swap rate of a 1-year quarterly-pay plain vanilla swap is 3.92% and the notional principal is $1000.\n",
    "The Libor spot rate at beginning :R(90-days)=2.5%.\n",
    "Assume after 30 days the Libor spot rates are: R(60-day)=3%;R(150-day)=3.5%;R(240-day)=4%; R(330-day)=4.5%. Calculate the value of this swap to the pay-fixed side after 30 days. \n"
   ]
  },
  {
   "cell_type": "code",
   "execution_count": 22,
   "metadata": {},
   "outputs": [],
   "source": [
    "#Example 2\n",
    "#valation of a pay-fixed interest rate swap\n",
    "fixed_rate=0.0392\n",
    "float_rate=0.025\n",
    "\n",
    "notional=1000\n",
    "r60=0.03\n",
    "r150=0.035\n",
    "r240=0.04\n",
    "r330=0.045"
   ]
  },
  {
   "cell_type": "code",
   "execution_count": 23,
   "metadata": {},
   "outputs": [],
   "source": [
    "def discount_factor(rate,time):\n",
    "    return 1/(1+rate*time/360)\n",
    "\n",
    "df60=discount_factor(r60,60)\n",
    "df150=discount_factor(r150,150)\n",
    "df240=discount_factor(r240,240)\n",
    "df330=discount_factor(r330,330)"
   ]
  },
  {
   "cell_type": "code",
   "execution_count": 24,
   "metadata": {},
   "outputs": [
    {
     "name": "stdout",
     "output_type": "stream",
     "text": [
      "[0.99502488 0.98562628 0.97402597 0.96038415]\n"
     ]
    }
   ],
   "source": [
    "DFS=np.array([df60,df150,df240,df330])\n",
    "print(DFS)"
   ]
  },
  {
   "cell_type": "code",
   "execution_count": 25,
   "metadata": {},
   "outputs": [
    {
     "name": "stdout",
     "output_type": "stream",
     "text": [
      "[   9.8    9.8    9.8 1009.8]\n"
     ]
    }
   ],
   "source": [
    "cf=notional*fixed_rate/4\n",
    "cashflows=np.array([cf,cf,cf,cf+notional])\n",
    "print(cashflows)"
   ]
  },
  {
   "cell_type": "code",
   "execution_count": 26,
   "metadata": {},
   "outputs": [
    {
     "name": "stdout",
     "output_type": "stream",
     "text": [
      "[  9.75124378   9.65913758   9.54545455 969.79591837]\n",
      "The present value of fixed leg is 998.75\n"
     ]
    }
   ],
   "source": [
    "fixed_pv=DFS*cashflows\n",
    "print(fixed_pv)\n",
    "fixed_value=np.sum(fixed_pv)\n",
    "print('The present value of fixed leg is {0:.2f}'.format(fixed_value))"
   ]
  },
  {
   "cell_type": "code",
   "execution_count": 27,
   "metadata": {},
   "outputs": [
    {
     "name": "stdout",
     "output_type": "stream",
     "text": [
      "1001.2437810945277\n"
     ]
    }
   ],
   "source": [
    "float_value=notional*(1+float_rate/4)*df60\n",
    "print(float_value)"
   ]
  },
  {
   "cell_type": "code",
   "execution_count": 28,
   "metadata": {},
   "outputs": [
    {
     "name": "stdout",
     "output_type": "stream",
     "text": [
      "The swap value is 2.49\n"
     ]
    }
   ],
   "source": [
    "IRS_value=float_value-fixed_value\n",
    "print('The swap value is {0:.2f}'.format(IRS_value))"
   ]
  },
  {
   "cell_type": "code",
   "execution_count": null,
   "metadata": {},
   "outputs": [],
   "source": []
  },
  {
   "cell_type": "code",
   "execution_count": null,
   "metadata": {},
   "outputs": [],
   "source": []
  },
  {
   "cell_type": "code",
   "execution_count": null,
   "metadata": {},
   "outputs": [],
   "source": []
  }
 ],
 "metadata": {
  "kernelspec": {
   "display_name": "Python 3",
   "language": "python",
   "name": "python3"
  },
  "language_info": {
   "codemirror_mode": {
    "name": "ipython",
    "version": 3
   },
   "file_extension": ".py",
   "mimetype": "text/x-python",
   "name": "python",
   "nbconvert_exporter": "python",
   "pygments_lexer": "ipython3",
   "version": "3.6.5"
  }
 },
 "nbformat": 4,
 "nbformat_minor": 2
}
